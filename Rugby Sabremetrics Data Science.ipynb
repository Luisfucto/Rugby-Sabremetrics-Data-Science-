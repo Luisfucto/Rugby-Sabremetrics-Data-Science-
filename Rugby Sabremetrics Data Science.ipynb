{
 "cells": [
  {
   "cell_type": "markdown",
   "metadata": {},
   "source": [
    "# Programming 2 \n",
    "## Luis Martinez\n",
    "## Rugby Sabremetrics"
   ]
  },
  {
   "cell_type": "markdown",
   "metadata": {},
   "source": [
    "In this lab you will be tasked with exercising your key Python programming skills. The **Pick & Go Test Match Results Database** (http://www.lassen.co.nz/pickandgo.php) contains the results of every international rugby match played since 1875. The following code block reads data from a data file (*'RugbyResultsData.csv'*) scraped from Pick & Go and stores  this in a list of dictionary objects, each of which contains the details of a match. The details stored about each match are stored in a dictionary object with the following keys:\n",
    "\n",
    "* **Date**: The date on which the match was played \n",
    "* **Day**: The day of the week on which the match was played \n",
    "* **Year**: The year in which the match was played\n",
    "* **Team_1**: The home team (three letter country code, e.g. IRL = Ireland, NZL = New Zealand)\n",
    "* **Team_2**: The away team (three letter country code, e.g. IRL = Ireland, NZL = New Zealand)\n",
    "* **Team_1_Score**: The score achieved by the home team.\t\n",
    "* **Team_2_Score**: The score achieved by the away team.\t\n",
    "* **Team_1_Tries**: The number of tries scored by the home team.\n",
    "* **Team_2_Tries**: The number of tries scored by the away team.\n",
    "* **Neutral**: Was the match played at a neutral venue?"
   ]
  },
  {
   "cell_type": "code",
   "execution_count": 1,
   "metadata": {},
   "outputs": [
    {
     "name": "stdout",
     "output_type": "stream",
     "text": [
      "3331 matches loaded\n"
     ]
    }
   ],
   "source": [
    "matches = list()\n",
    "count = 0\n",
    "with open('RugbyResultsData.csv') as f:\n",
    "    for line in f:\n",
    "        words = line.split(',')\n",
    "        match = {\"Date\":words[0],\"Day\":words[1],\"Year\":int(words[2]),\"Team_1\":words[3],\"Team_2\":words[4],\"Team_1_Score\":int(words[5]),\"Team_2_Score\":int(words[6]),\"Team_1_Tries\":int(words[7]),\"Team_2_Tries\":int(words[8]),\"Neutral\":words[9][0]}\n",
    "        matches.append(match)\n",
    "        count = count + 1\n",
    "    \n",
    "print(str(count) + \" matches loaded\")"
   ]
  },
  {
   "cell_type": "code",
   "execution_count": 2,
   "metadata": {},
   "outputs": [
    {
     "data": {
      "text/plain": [
       "[{'Date': '15 Feb 1875',\n",
       "  'Day': 'Mon',\n",
       "  'Year': 1875,\n",
       "  'Team_1': 'ENG',\n",
       "  'Team_2': 'IRE',\n",
       "  'Team_1_Score': 7,\n",
       "  'Team_2_Score': 0,\n",
       "  'Team_1_Tries': 2,\n",
       "  'Team_2_Tries': 0,\n",
       "  'Neutral': 'N'},\n",
       " {'Date': '08 Mar 1875',\n",
       "  'Day': 'Mon',\n",
       "  'Year': 1875,\n",
       "  'Team_1': 'SCO',\n",
       "  'Team_2': 'ENG',\n",
       "  'Team_1_Score': 0,\n",
       "  'Team_2_Score': 0,\n",
       "  'Team_1_Tries': 0,\n",
       "  'Team_2_Tries': 0,\n",
       "  'Neutral': 'N'},\n",
       " {'Date': '13 Dec 1875',\n",
       "  'Day': 'Mon',\n",
       "  'Year': 1875,\n",
       "  'Team_1': 'IRE',\n",
       "  'Team_2': 'ENG',\n",
       "  'Team_1_Score': 0,\n",
       "  'Team_2_Score': 4,\n",
       "  'Team_1_Tries': 0,\n",
       "  'Team_2_Tries': 2,\n",
       "  'Neutral': 'N'},\n",
       " {'Date': '06 Mar 1876',\n",
       "  'Day': 'Mon',\n",
       "  'Year': 1876,\n",
       "  'Team_1': 'ENG',\n",
       "  'Team_2': 'SCO',\n",
       "  'Team_1_Score': 4,\n",
       "  'Team_2_Score': 0,\n",
       "  'Team_1_Tries': 2,\n",
       "  'Team_2_Tries': 0,\n",
       "  'Neutral': 'N'}]"
      ]
     },
     "execution_count": 2,
     "metadata": {},
     "output_type": "execute_result"
    }
   ],
   "source": [
    "matches[0:4]"
   ]
  },
  {
   "cell_type": "markdown",
   "metadata": {},
   "source": [
    "The details of a specific match are accessed by first selecting an element from the **matches** list and then accessing specific pieces of data about that match from the dictionary. For example, the year and teams involved in the third match in the list could be accessed as follows:"
   ]
  },
  {
   "cell_type": "code",
   "execution_count": 3,
   "metadata": {},
   "outputs": [
    {
     "data": {
      "text/plain": [
       "1875"
      ]
     },
     "execution_count": 3,
     "metadata": {},
     "output_type": "execute_result"
    }
   ],
   "source": [
    "matches[2][\"Year\"]"
   ]
  },
  {
   "cell_type": "code",
   "execution_count": 4,
   "metadata": {},
   "outputs": [
    {
     "data": {
      "text/plain": [
       "'IRE'"
      ]
     },
     "execution_count": 4,
     "metadata": {},
     "output_type": "execute_result"
    }
   ],
   "source": [
    "matches[2][\"Team_1\"]"
   ]
  },
  {
   "cell_type": "code",
   "execution_count": 5,
   "metadata": {
    "scrolled": true
   },
   "outputs": [
    {
     "data": {
      "text/plain": [
       "'ENG'"
      ]
     },
     "execution_count": 5,
     "metadata": {},
     "output_type": "execute_result"
    }
   ],
   "source": [
    "matches[2][\"Team_2\"]"
   ]
  },
  {
   "cell_type": "markdown",
   "metadata": {},
   "source": [
    "The task in this lab is to answer the question below using simple Python code. **DO NOT** use advanced packages (e.g. pandas or numpy) for these tasks, write all code yourself."
   ]
  },
  {
   "cell_type": "markdown",
   "metadata": {},
   "source": [
    "### Question 1"
   ]
  },
  {
   "cell_type": "markdown",
   "metadata": {},
   "source": [
    "What is the highest score that any team has achieved in a single match?"
   ]
  },
  {
   "cell_type": "code",
   "execution_count": 6,
   "metadata": {},
   "outputs": [
    {
     "name": "stdout",
     "output_type": "stream",
     "text": [
      "high score:145\n",
      "{'Date': '04-Jun-95', 'Day': 'Sun', 'Year': 1995, 'Team_1': 'NZL', 'Team_2': 'JAP', 'Team_1_Score': 145, 'Team_2_Score': 17, 'Team_1_Tries': 21, 'Team_2_Tries': 2, 'Neutral': 'Y'}\n"
     ]
    }
   ],
   "source": [
    "# Write code to determine and print the answer here.\n",
    "\n",
    "high_score = 0\n",
    "high_score_match = None\n",
    "\n",
    "for match in matches:\n",
    "    if(match[\"Team_1_Score\"] > high_score):\n",
    "        high_score = match[\"Team_1_Score\"]\n",
    "        high_score_match = match\n",
    "    \n",
    "    if(match[\"Team_2_Score\"] > high_score):\n",
    "        high_score = match[\"Team_2_Score\"]\n",
    "        high_score_match = match\n",
    "\n",
    "print(\"high score:\" + str(high_score))\n",
    "print(high_score_match)"
   ]
  },
  {
   "cell_type": "markdown",
   "metadata": {},
   "source": [
    "### Question 2"
   ]
  },
  {
   "cell_type": "markdown",
   "metadata": {},
   "source": [
    "What is the highest number of tries that have been scored in a single match?"
   ]
  },
  {
   "cell_type": "code",
   "execution_count": 7,
   "metadata": {},
   "outputs": [
    {
     "name": "stdout",
     "output_type": "stream",
     "text": [
      "high tries:23\n",
      "{'Date': '04-Jun-95', 'Day': 'Sun', 'Year': 1995, 'Team_1': 'NZL', 'Team_2': 'JAP', 'Team_1_Score': 145, 'Team_2_Score': 17, 'Team_1_Tries': 21, 'Team_2_Tries': 2, 'Neutral': 'Y'}\n"
     ]
    }
   ],
   "source": [
    "# Write code to determine and print the answer here.\n",
    "high_tries = 0\n",
    "high_tries_match = None\n",
    "\n",
    "for match in matches:\n",
    "    if((match[\"Team_1_Tries\"] + match[\"Team_2_Tries\"]) > high_tries):\n",
    "        high_tries = match[\"Team_1_Tries\"] + match[\"Team_2_Tries\"]\n",
    "        high_tries_match = match\n",
    "\n",
    "print(\"high tries:\" + str(high_tries))\n",
    "print(high_tries_match)"
   ]
  },
  {
   "cell_type": "markdown",
   "metadata": {},
   "source": [
    "### Question 3"
   ]
  },
  {
   "cell_type": "markdown",
   "metadata": {},
   "source": [
    "What is the biggest points difference ever seen in a match? Who was playing?"
   ]
  },
  {
   "cell_type": "code",
   "execution_count": 8,
   "metadata": {},
   "outputs": [
    {
     "name": "stdout",
     "output_type": "stream",
     "text": [
      "high points diff:142\n",
      "{'Date': '25-Oct-03', 'Day': 'Sat', 'Year': 2003, 'Team_1': 'AUS', 'Team_2': 'NAM', 'Team_1_Score': 142, 'Team_2_Score': 0, 'Team_1_Tries': 22, 'Team_2_Tries': 0, 'Neutral': 'N'}\n"
     ]
    }
   ],
   "source": [
    "# Write code to determine and print the answer here.\n",
    "high_points_diff = 0\n",
    "high_points_diff_match = None\n",
    "\n",
    "for match in matches:\n",
    "    points_diff = abs(match[\"Team_1_Score\"] - match[\"Team_2_Score\"])\n",
    "    \n",
    "    if(points_diff > high_points_diff):\n",
    "        high_points_diff = points_diff\n",
    "        high_points_diff_match = match\n",
    "\n",
    "print(\"high points diff:\" + str(high_points_diff))\n",
    "print(high_points_diff_match)"
   ]
  },
  {
   "cell_type": "markdown",
   "metadata": {},
   "source": [
    "### Question 4"
   ]
  },
  {
   "cell_type": "markdown",
   "metadata": {},
   "source": [
    "How many matches have Scotland played since records began?"
   ]
  },
  {
   "cell_type": "code",
   "execution_count": 9,
   "metadata": {},
   "outputs": [
    {
     "name": "stdout",
     "output_type": "stream",
     "text": [
      "Scotland games:672\n"
     ]
    }
   ],
   "source": [
    "# Write code to determine and print the answer here.\n",
    "sco_games = 0\n",
    "\n",
    "for match in matches:\n",
    "    \n",
    "    if(match[\"Team_1\"] == \"SCO\" or match[\"Team_2\"] == \"SCO\"):\n",
    "        sco_games = sco_games + 1\n",
    "\n",
    "print(\"Scotland games:\" + str(sco_games))"
   ]
  },
  {
   "cell_type": "markdown",
   "metadata": {},
   "source": [
    "### Question 5"
   ]
  },
  {
   "cell_type": "markdown",
   "metadata": {},
   "source": [
    "How many times have Ireland played France since records began?"
   ]
  },
  {
   "cell_type": "code",
   "execution_count": 10,
   "metadata": {},
   "outputs": [
    {
     "name": "stdout",
     "output_type": "stream",
     "text": [
      "Ireland-France games:97\n"
     ]
    }
   ],
   "source": [
    "# Write code to determine and print the answer here.\n",
    "ire_fra_games = 0\n",
    "\n",
    "for match in matches:\n",
    "    \n",
    "    if((match[\"Team_1\"] == \"IRE\" and match[\"Team_2\"] == \"FRA\") or (match[\"Team_2\"] == \"IRE\" and match[\"Team_1\"] == \"FRA\")):\n",
    "        ire_fra_games = ire_fra_games + 1\n",
    "\n",
    "print(\"Ireland-France games:\" + str(ire_fra_games))"
   ]
  },
  {
   "cell_type": "markdown",
   "metadata": {},
   "source": [
    "### Question 6"
   ]
  },
  {
   "cell_type": "markdown",
   "metadata": {},
   "source": [
    "Which team have played the most matches since records began?"
   ]
  },
  {
   "cell_type": "code",
   "execution_count": 11,
   "metadata": {},
   "outputs": [
    {
     "name": "stdout",
     "output_type": "stream",
     "text": [
      "{'ENG': 711, 'IRE': 683, 'SCO': 672, 'WAL': 700, 'SAF': 480, 'LIO': 111, 'AUS': 575, 'NZL': 590, 'FRA': 737, 'USA': 78, 'NSW': 32, 'ROM': 136, 'GER': 15, 'ITA': 280, 'ARG': 284, 'FIJ': 96, 'CZR': 6, 'POR': 10, 'TON': 63, 'JAP': 66, 'WOR': 6, 'JAG': 8, 'CAN': 87, 'CAV': 4, 'SAM': 94, 'KOR': 1, 'ZIM': 9, 'NAM': 29, 'SPA': 8, 'NET': 3, 'CHL': 4, 'PAR': 1, 'URU': 27, 'IVO': 3, 'GEO': 34, 'RUS': 10, 'PAC': 9}\n",
      "FRA\n",
      "737\n"
     ]
    }
   ],
   "source": [
    "# Write code to determine and print the answer here.\n",
    "games_played_map = dict()\n",
    "\n",
    "# Count the number of matches played by each team\n",
    "for match in matches:\n",
    "    if(match[\"Team_1\"] in games_played_map):\n",
    "        games_played_map[match[\"Team_1\"]] += 1\n",
    "    else:\n",
    "        games_played_map[match[\"Team_1\"]] = 1\n",
    "        \n",
    "    if(match[\"Team_2\"] in games_played_map):\n",
    "        games_played_map[match[\"Team_2\"]] += 1\n",
    "    else:\n",
    "        games_played_map[match[\"Team_2\"]] = 1\n",
    "\n",
    "print(games_played_map)\n",
    "\n",
    "# Determine the team that has played the most matches\n",
    "most_played = 0\n",
    "most_played_team = None\n",
    "\n",
    "for team in games_played_map:\n",
    "    if(games_played_map[team] > most_played):\n",
    "        most_played = games_played_map[team] \n",
    "        most_played_team = team\n",
    "\n",
    "print(most_played_team)\n",
    "print(most_played)"
   ]
  },
  {
   "cell_type": "markdown",
   "metadata": {},
   "source": [
    "### Question 7"
   ]
  },
  {
   "cell_type": "markdown",
   "metadata": {},
   "source": [
    "Which team is the “*losingest*” (i.e. has been kept to zero points in a game in which they lost in most matches since records began)?"
   ]
  },
  {
   "cell_type": "code",
   "execution_count": 12,
   "metadata": {},
   "outputs": [
    {
     "name": "stdout",
     "output_type": "stream",
     "text": [
      "{'IRE': 69, 'SCO': 48, 'ENG': 39, 'WAL': 36, 'SAF': 10, 'LIO': 7, 'AUS': 18, 'NZL': 7, 'FRA': 31, 'ROM': 8, 'NSW': 2, 'GER': 3, 'ARG': 6, 'ITA': 12, 'CZR': 1, 'SPA': 2, 'IVO': 1, 'CAN': 5, 'URU': 2, 'TON': 4, 'GEO': 1, 'NET': 1, 'NAM': 3, 'JAP': 1, 'FIJ': 3, 'POR': 1, 'USA': 1, 'SAM': 1}\n",
      "IRE\n",
      "69\n"
     ]
    }
   ],
   "source": [
    "# Write code to determine and print the answer here.\n",
    "zero_score_map = dict()\n",
    "\n",
    "# Count the number of wins for each team\n",
    "for match in matches:\n",
    "    if(match[\"Team_1_Score\"] == 0 and match[\"Team_1_Score\"] < match[\"Team_2_Score\"]):\n",
    "        if(match[\"Team_1\"] in zero_score_map):\n",
    "            zero_score_map[match[\"Team_1\"]] += 1\n",
    "        else:\n",
    "            zero_score_map[match[\"Team_1\"]] = 1\n",
    "\n",
    "    elif(match[\"Team_2_Score\"] == 0  and match[\"Team_2_Score\"] < match[\"Team_1_Score\"]):\n",
    "        if(match[\"Team_2\"] in zero_score_map):\n",
    "            zero_score_map[match[\"Team_2\"]] += 1\n",
    "        else:\n",
    "            zero_score_map[match[\"Team_2\"]] = 1\n",
    "\n",
    "print(zero_score_map)\n",
    "\n",
    "# Determine the team that has won the most matches\n",
    "most_lost = 0\n",
    "most_lost_team = None\n",
    "\n",
    "for team in zero_score_map:\n",
    "    if(zero_score_map[team] > most_lost):\n",
    "        most_lost = zero_score_map[team] \n",
    "        most_lost_team = team\n",
    "\n",
    "print(most_lost_team)\n",
    "print(most_lost)\n"
   ]
  },
  {
   "cell_type": "markdown",
   "metadata": {},
   "source": [
    "### Question 8"
   ]
  },
  {
   "cell_type": "markdown",
   "metadata": {},
   "source": [
    "Is there really a home advantage – i.e. does the home team win more often than the away team? Justify your answer."
   ]
  },
  {
   "cell_type": "code",
   "execution_count": 13,
   "metadata": {},
   "outputs": [
    {
     "name": "stdout",
     "output_type": "stream",
     "text": [
      "1763\n",
      "1159\n",
      "Home advantage is real\n"
     ]
    }
   ],
   "source": [
    "# Write code to determine and print the answer here.\n",
    "home_wins = 0\n",
    "away_wins = 0\n",
    "\n",
    "# Count the number of wins for each team\n",
    "for match in matches:\n",
    "    if(match[\"Neutral\"] == \"N\"):\n",
    "        if(match[\"Team_1_Score\"] > match[\"Team_2_Score\"]):\n",
    "            home_wins += 1\n",
    "        elif(match[\"Team_2_Score\"] > match[\"Team_1_Score\"]):\n",
    "            away_wins += 1\n",
    "            \n",
    "print(home_wins)\n",
    "print(away_wins)\n",
    "\n",
    "if(home_wins > away_wins):\n",
    "    print(\"Home advantage is real\")\n",
    "elif(away_wins > home_wins):\n",
    "    print(\"Home advantage is fake news\")"
   ]
  },
  {
   "cell_type": "markdown",
   "metadata": {
    "collapsed": true
   },
   "source": [
    "### Question 9"
   ]
  },
  {
   "cell_type": "markdown",
   "metadata": {},
   "source": [
    "In what year did Ireland play the highest number of games?"
   ]
  },
  {
   "cell_type": "code",
   "execution_count": 14,
   "metadata": {},
   "outputs": [
    {
     "name": "stdout",
     "output_type": "stream",
     "text": [
      "{1875: 2, 1877: 2, 1878: 1, 1879: 2, 1880: 2, 1881: 2, 1882: 3, 1883: 2, 1884: 3, 1885: 3, 1886: 2, 1887: 3, 1888: 2, 1889: 2, 1890: 3, 1891: 3, 1892: 3, 1893: 3, 1894: 3, 1895: 3, 1896: 3, 1897: 2, 1898: 3, 1899: 3, 1900: 3, 1901: 3, 1902: 3, 1903: 3, 1904: 3, 1905: 4, 1906: 4, 1907: 3, 1908: 3, 1909: 4, 1910: 4, 1911: 4, 1912: 5, 1913: 4, 1914: 4, 1920: 4, 1921: 4, 1922: 4, 1923: 4, 1924: 5, 1925: 4, 1926: 4, 1927: 6, 1928: 4, 1929: 4, 1930: 4, 1931: 5, 1932: 3, 1933: 3, 1934: 3, 1935: 4, 1936: 3, 1937: 3, 1938: 3, 1939: 3, 1947: 5, 1948: 4, 1949: 4, 1950: 4, 1951: 5, 1952: 6, 1953: 4, 1954: 5, 1955: 4, 1956: 4, 1957: 4, 1958: 5, 1959: 4, 1960: 5, 1961: 5, 1962: 4, 1963: 5, 1964: 4, 1965: 5, 1966: 4, 1967: 6, 1968: 5, 1969: 4, 1970: 7, 1971: 4, 1972: 3, 1973: 6, 1974: 5, 1975: 4, 1976: 6, 1977: 4, 1978: 5, 1979: 6, 1980: 4, 1981: 7, 1982: 4, 1983: 4, 1984: 5, 1985: 4, 1986: 5, 1987: 8, 1988: 7, 1989: 5, 1990: 5, 1991: 10, 1992: 7, 1993: 5, 1994: 7, 1995: 10, 1996: 7, 1997: 8, 1998: 9, 1999: 12, 2000: 10, 2001: 8, 2002: 13, 2003: 16, 2004: 10, 2005: 10, 2006: 11, 2007: 13, 2008: 10, 2009: 10, 2010: 11, 2011: 14, 2012: 10, 2013: 10, 2014: 10, 2015: 14, 2016: 12, 2017: 11, 2018: 1}\n",
      "2003\n",
      "16\n"
     ]
    }
   ],
   "source": [
    "# Write code to determine and print the answer here.\n",
    "games_played_per_year_map = dict()\n",
    "\n",
    "# Count the number of matches played each year by Ireland\n",
    "for match in matches:\n",
    "    if(match[\"Team_1\"] == \"IRE\" or match[\"Team_2\"] == \"IRE\"):\n",
    "\n",
    "        if(match[\"Year\"] in games_played_per_year_map):\n",
    "            games_played_per_year_map[match[\"Year\"]] += 1\n",
    "        else:\n",
    "            games_played_per_year_map[match[\"Year\"]] = 1\n",
    "\n",
    "print(games_played_per_year_map)\n",
    "\n",
    "# Determine the year in which Ireland played the most matches\n",
    "most_played = 0\n",
    "most_played_year = None\n",
    "\n",
    "for year in games_played_per_year_map:\n",
    "    if(games_played_per_year_map[year] > most_played):\n",
    "        most_played = games_played_per_year_map[year] \n",
    "        most_played_year = year\n",
    "\n",
    "print(most_played_year)\n",
    "print(most_played)"
   ]
  },
  {
   "cell_type": "markdown",
   "metadata": {},
   "source": [
    "### Question 10"
   ]
  },
  {
   "cell_type": "markdown",
   "metadata": {},
   "source": [
    "Write a function that will work out the record (number of wins, losses, and draws) of any one team against another team."
   ]
  },
  {
   "cell_type": "code",
   "execution_count": 15,
   "metadata": {},
   "outputs": [],
   "source": [
    "def get_team_record(team1, team2):\n",
    "    \n",
    "    # Write code to determine and print the answer here.\n",
    "    wins = 0\n",
    "    losses = 0\n",
    "    draws = 0\n",
    "\n",
    "    # Count the number of matches played each year by Ireland\n",
    "    for match in matches:\n",
    "        if(match[\"Team_1\"] == team1 and match[\"Team_2\"] == team2):\n",
    "\n",
    "            if(match[\"Team_1_Score\"] > match[\"Team_2_Score\"]):\n",
    "                wins += 1\n",
    "\n",
    "            elif(match[\"Team_1_Score\"] < match[\"Team_2_Score\"]):\n",
    "                losses += 1\n",
    "\n",
    "            elif(match[\"Team_1_Score\"] == match[\"Team_2_Score\"]):\n",
    "                draws += 1\n",
    "\n",
    "        if(match[\"Team_2\"] == team1 and match[\"Team_1\"] == team2):\n",
    "\n",
    "            if(match[\"Team_2_Score\"] > match[\"Team_1_Score\"]):\n",
    "                wins += 1\n",
    "\n",
    "            elif(match[\"Team_2_Score\"] < match[\"Team_1_Score\"]):\n",
    "                losses += 1\n",
    "\n",
    "            elif(match[\"Team_2_Score\"] == match[\"Team_1_Score\"]):\n",
    "                draws += 1\n",
    "\n",
    "    return wins, losses, draws\n"
   ]
  },
  {
   "cell_type": "markdown",
   "metadata": {},
   "source": [
    "Use this function to print the records of the following teams against selected opponents:\n",
    "* Ireland's (IRE) record against Italy (ITA)\n",
    "* Italy's (ITA) record against Ireland (IRE)\n",
    "* Ireland's (IRE) record against New Zealand (NZL)\n",
    "* Ireland's (IRE) record against England (ITA)\n",
    "* Scotland's (SCO) record against France (FRA)"
   ]
  },
  {
   "cell_type": "code",
   "execution_count": 16,
   "metadata": {},
   "outputs": [
    {
     "name": "stdout",
     "output_type": "stream",
     "text": [
      "(23, 4, 0)\n"
     ]
    }
   ],
   "source": [
    "print(get_team_record(\"IRE\", \"ITA\"))"
   ]
  },
  {
   "cell_type": "code",
   "execution_count": 17,
   "metadata": {},
   "outputs": [
    {
     "name": "stdout",
     "output_type": "stream",
     "text": [
      "(4, 23, 0)\n"
     ]
    }
   ],
   "source": [
    "print(get_team_record(\"ITA\", \"IRE\"))"
   ]
  },
  {
   "cell_type": "code",
   "execution_count": 18,
   "metadata": {},
   "outputs": [
    {
     "name": "stdout",
     "output_type": "stream",
     "text": [
      "(1, 28, 1)\n"
     ]
    }
   ],
   "source": [
    "print(get_team_record(\"IRE\", \"NZL\"))"
   ]
  },
  {
   "cell_type": "code",
   "execution_count": 19,
   "metadata": {},
   "outputs": [
    {
     "name": "stdout",
     "output_type": "stream",
     "text": [
      "(35, 53, 3)\n"
     ]
    }
   ],
   "source": [
    "print(get_team_record(\"SCO\", \"FRA\"))"
   ]
  },
  {
   "cell_type": "code",
   "execution_count": 20,
   "metadata": {},
   "outputs": [
    {
     "name": "stdout",
     "output_type": "stream",
     "text": [
      "(48, 76, 8)\n"
     ]
    }
   ],
   "source": [
    "print(get_team_record(\"IRE\", \"ENG\"))"
   ]
  },
  {
   "cell_type": "code",
   "execution_count": null,
   "metadata": {},
   "outputs": [],
   "source": []
  }
 ],
 "metadata": {
  "anaconda-cloud": {},
  "kernelspec": {
   "display_name": "Python 3",
   "language": "python",
   "name": "python3"
  },
  "language_info": {
   "codemirror_mode": {
    "name": "ipython",
    "version": 3
   },
   "file_extension": ".py",
   "mimetype": "text/x-python",
   "name": "python",
   "nbconvert_exporter": "python",
   "pygments_lexer": "ipython3",
   "version": "3.8.5"
  }
 },
 "nbformat": 4,
 "nbformat_minor": 1
}
